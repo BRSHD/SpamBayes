{
  "nbformat": 4,
  "nbformat_minor": 0,
  "metadata": {
    "colab": {
      "provenance": [],
      "mount_file_id": "12VAgkS5Gb30nUiWsou6wQkqnoxnL4IIR",
      "authorship_tag": "ABX9TyO8K1VC8dH1neAVAPFglu0k",
      "include_colab_link": true
    },
    "kernelspec": {
      "name": "python3",
      "display_name": "Python 3"
    },
    "language_info": {
      "name": "python"
    }
  },
  "cells": [
    {
      "cell_type": "markdown",
      "metadata": {
        "id": "view-in-github",
        "colab_type": "text"
      },
      "source": [
        "<a href=\"https://colab.research.google.com/github/BRSHD/SpamBayes/blob/main/spam_classifier.ipynb\" target=\"_parent\"><img src=\"https://colab.research.google.com/assets/colab-badge.svg\" alt=\"Open In Colab\"/></a>"
      ]
    },
    {
      "cell_type": "code",
      "execution_count": 4,
      "metadata": {
        "colab": {
          "base_uri": "https://localhost:8080/"
        },
        "id": "Y53bcEpJaMzk",
        "outputId": "c87fc673-17ae-422a-a0ce-caa2dee335bc"
      },
      "outputs": [
        {
          "output_type": "stream",
          "name": "stdout",
          "text": [
            "Всего сообщений: 5,572\n",
            "Не спам (ham): 4,825 (86.6%)\n",
            "Спам (spam): 747 (13.4%)\n"
          ]
        }
      ],
      "source": [
        "import pandas as pd\n",
        "import matplotlib.pyplot as plt\n",
        "import seaborn as sns\n",
        "import re\n",
        "\n",
        "# Загрузка данных\n",
        "df = pd.read_csv(\"/content/drive/MyDrive/Colab Notebooks/spamdataset.csv\", encoding=\"latin-1\")\n",
        "df = df[[\"v1\", \"v2\"]]\n",
        "df.columns = [\"label\", \"text\"]\n",
        "\n",
        "print(f\"Всего сообщений: {len(df):,}\")\n",
        "print(f\"Не спам (ham): {sum(df['label'] == 'ham'):,} ({sum(df['label'] == 'ham')/len(df)*100:.1f}%)\")\n",
        "print(f\"Спам (spam): {sum(df['label'] == 'spam'):,} ({sum(df['label'] == 'spam')/len(df)*100:.1f}%)\")"
      ]
    },
    {
      "cell_type": "code",
      "source": [
        "!git init"
      ],
      "metadata": {
        "colab": {
          "base_uri": "https://localhost:8080/"
        },
        "id": "EkNj-B4kyeva",
        "outputId": "02d0a68f-4cac-476b-8470-4dc839da9daa"
      },
      "execution_count": 5,
      "outputs": [
        {
          "output_type": "stream",
          "name": "stdout",
          "text": [
            "\u001b[33mhint: Using 'master' as the name for the initial branch. This default branch name\u001b[m\n",
            "\u001b[33mhint: is subject to change. To configure the initial branch name to use in all\u001b[m\n",
            "\u001b[33mhint: of your new repositories, which will suppress this warning, call:\u001b[m\n",
            "\u001b[33mhint: \u001b[m\n",
            "\u001b[33mhint: \tgit config --global init.defaultBranch <name>\u001b[m\n",
            "\u001b[33mhint: \u001b[m\n",
            "\u001b[33mhint: Names commonly chosen instead of 'master' are 'main', 'trunk' and\u001b[m\n",
            "\u001b[33mhint: 'development'. The just-created branch can be renamed via this command:\u001b[m\n",
            "\u001b[33mhint: \u001b[m\n",
            "\u001b[33mhint: \tgit branch -m <name>\u001b[m\n",
            "Initialized empty Git repository in /content/.git/\n"
          ]
        }
      ]
    }
  ]
}