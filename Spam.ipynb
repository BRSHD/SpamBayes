{
 "cells": [
  {
   "cell_type": "code",
   "execution_count": null,
   "id": "367f9c8b",
   "metadata": {},
   "outputs": [],
   "source": [
    "import pandas as pd\n",
    "import matplotlib.pyplot as plt\n",
    "import seaborn as sns\n",
    "import re\n",
    "\n",
    "# Загрузка данных\n",
    "df = pd.read_csv(\"spamdataset.csv\", encoding=\"latin-1\")\n",
    "df = df[[\"v1\", \"v2\"]]\n",
    "df.columns = [\"label\", \"text\"]\n",
    "\n",
    "print(f\"Всего сообщений: {len(df):,}\")\n",
    "print(f\"Не спам (ham): {sum(df['label'] == 'ham'):,} ({sum(df['label'] == 'ham')/len(df)*100:.1f}%)\")\n",
    "print(f\"Спам (spam): {sum(df['label'] == 'spam'):,} ({sum(df['label'] == 'spam')/len(df)*100:.1f}%)\")"
   ]
  }
 ],
 "metadata": {
  "kernelspec": {
   "display_name": "base",
   "language": "python",
   "name": "python3"
  },
  "language_info": {
   "codemirror_mode": {
    "name": "ipython",
    "version": 3
   },
   "file_extension": ".py",
   "mimetype": "text/x-python",
   "name": "python",
   "nbconvert_exporter": "python",
   "pygments_lexer": "ipython3",
   "version": "3.13.5"
  }
 },
 "nbformat": 4,
 "nbformat_minor": 5
}
